https://colab.research.google.com/gist/Batistajunior/5b6d74bbe5c063ecce1417a013602df9/an-lise_exploratoria.ipynb
